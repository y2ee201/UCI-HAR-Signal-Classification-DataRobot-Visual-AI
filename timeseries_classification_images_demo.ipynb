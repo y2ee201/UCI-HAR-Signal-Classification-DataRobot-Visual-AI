{
 "cells": [
  {
   "cell_type": "code",
   "execution_count": 3,
   "metadata": {},
   "outputs": [],
   "source": [
    "import pandas as pd\n",
    "import numpy as np\n",
    "import matplotlib.pyplot as plt\n",
    "from pyts.image import GramianAngularField\n",
    "from PIL import Image\n",
    "import os\n",
    "from tqdm import tqdm\n",
    "from sklearn.metrics import roc_auc_score, classification_report, accuracy_score"
   ]
  },
  {
   "cell_type": "markdown",
   "metadata": {},
   "source": [
    "#### The Human activity recognition dataset is a multiclass classification dataset with sensor data. 3 sensors give 9 timeseries signals as output. https://archive.ics.uci.edu/ml/datasets/human+activity+recognition+using+smartphones"
   ]
  },
  {
   "cell_type": "markdown",
   "metadata": {},
   "source": [
    "## Data Preparation"
   ]
  },
  {
   "cell_type": "code",
   "execution_count": 8,
   "metadata": {},
   "outputs": [
    {
     "data": {
      "text/plain": [
       "['body_acc_x_train.txt',\n",
       " 'body_acc_y_train.txt',\n",
       " 'body_acc_z_train.txt',\n",
       " 'body_gyro_x_train.txt',\n",
       " 'body_gyro_y_train.txt',\n",
       " 'body_gyro_z_train.txt',\n",
       " 'total_acc_x_train.txt',\n",
       " 'total_acc_y_train.txt',\n",
       " 'total_acc_z_train.txt']"
      ]
     },
     "execution_count": 8,
     "metadata": {},
     "output_type": "execute_result"
    }
   ],
   "source": [
    "files = os.listdir('./HARDataset/train/Inertial Signals/')\n",
    "files.sort()\n",
    "files"
   ]
  },
  {
   "cell_type": "code",
   "execution_count": 13,
   "metadata": {},
   "outputs": [
    {
     "data": {
      "text/plain": [
       "(7352, 1)"
      ]
     },
     "execution_count": 13,
     "metadata": {},
     "output_type": "execute_result"
    }
   ],
   "source": [
    "y = pd.read_csv('./HARDataset/train/y_train.txt', header=None, delim_whitespace=True).values\n",
    "y.shape"
   ]
  },
  {
   "cell_type": "code",
   "execution_count": 11,
   "metadata": {},
   "outputs": [
    {
     "data": {
      "text/plain": [
       "((7352, 128), (7352, 128), (7352, 128))"
      ]
     },
     "execution_count": 11,
     "metadata": {},
     "output_type": "execute_result"
    }
   ],
   "source": [
    "acc_x = pd.read_csv('./HARDataset/train/Inertial Signals/body_acc_x_train.txt', header=None, delim_whitespace=True).values\n",
    "acc_y = pd.read_csv('./HARDataset/train/Inertial Signals/body_acc_y_train.txt', header=None, delim_whitespace=True).values\n",
    "acc_z = pd.read_csv('./HARDataset/train/Inertial Signals/body_acc_z_train.txt', header=None, delim_whitespace=True).values\n",
    "\n",
    "acc_x.shape,acc_y.shape,acc_z.shape"
   ]
  },
  {
   "cell_type": "code",
   "execution_count": 24,
   "metadata": {},
   "outputs": [
    {
     "data": {
      "text/plain": [
       "((7352, 128), (7352, 128), (7352, 128))"
      ]
     },
     "execution_count": 24,
     "metadata": {},
     "output_type": "execute_result"
    }
   ],
   "source": [
    "gyro_x = pd.read_csv('./HARDataset/train/Inertial Signals/body_gyro_x_train.txt', header=None, delim_whitespace=True).values\n",
    "gyro_y = pd.read_csv('./HARDataset/train/Inertial Signals/body_gyro_y_train.txt', header=None, delim_whitespace=True).values\n",
    "gyro_z = pd.read_csv('./HARDataset/train/Inertial Signals/body_gyro_z_train.txt', header=None, delim_whitespace=True).values\n",
    "\n",
    "gyro_x.shape,gyro_y.shape,gyro_z.shape"
   ]
  },
  {
   "cell_type": "code",
   "execution_count": 25,
   "metadata": {},
   "outputs": [
    {
     "data": {
      "text/plain": [
       "((7352, 128), (7352, 128), (7352, 128))"
      ]
     },
     "execution_count": 25,
     "metadata": {},
     "output_type": "execute_result"
    }
   ],
   "source": [
    "total_x = pd.read_csv('./HARDataset/train/Inertial Signals/total_acc_x_train.txt', header=None, delim_whitespace=True).values\n",
    "total_y = pd.read_csv('./HARDataset/train/Inertial Signals/total_acc_y_train.txt', header=None, delim_whitespace=True).values\n",
    "total_z = pd.read_csv('./HARDataset/train/Inertial Signals/total_acc_z_train.txt', header=None, delim_whitespace=True).values\n",
    "\n",
    "total_x.shape,total_y.shape,total_z.shape"
   ]
  },
  {
   "cell_type": "markdown",
   "metadata": {},
   "source": [
    "### Generate Images \n",
    "We use gramarian angular field based images"
   ]
  },
  {
   "cell_type": "code",
   "execution_count": 14,
   "metadata": {},
   "outputs": [],
   "source": [
    "!mkdir 'images'"
   ]
  },
  {
   "cell_type": "code",
   "execution_count": 38,
   "metadata": {},
   "outputs": [
    {
     "name": "stderr",
     "output_type": "stream",
     "text": [
      "100%|██████████| 7352/7352 [03:43<00:00, 32.86it/s]"
     ]
    },
    {
     "name": "stdout",
     "output_type": "stream",
     "text": [
      "7352\n"
     ]
    },
    {
     "name": "stderr",
     "output_type": "stream",
     "text": [
      "\n"
     ]
    }
   ],
   "source": [
    "gaf = GramianAngularField()\n",
    "filenames = []\n",
    "for i in tqdm(range(len(y))):\n",
    "    img_acc_x = gaf.fit_transform(acc_x[i].reshape((-1,128)))[0]\n",
    "    img_acc_y = gaf.fit_transform(acc_y[i].reshape((-1,128)))[0]\n",
    "    img_acc_z = gaf.fit_transform(acc_z[i].reshape((-1,128)))[0]\n",
    "    \n",
    "    img_gyro_x = gaf.fit_transform(gyro_x[i].reshape((-1,128)))[0]\n",
    "    img_gyro_y = gaf.fit_transform(gyro_y[i].reshape((-1,128)))[0]\n",
    "    img_gyro_z = gaf.fit_transform(gyro_z[i].reshape((-1,128)))[0]\n",
    "    \n",
    "    img_total_x = gaf.fit_transform(total_x[i].reshape((-1,128)))[0]\n",
    "    img_total_y = gaf.fit_transform(total_y[i].reshape((-1,128)))[0]\n",
    "    img_total_z = gaf.fit_transform(total_z[i].reshape((-1,128)))[0]\n",
    "    \n",
    "    img_acc = np.concatenate((img_acc_x,img_acc_y,img_acc_z), axis=1)\n",
    "    img_gyro = np.concatenate((img_gyro_x,img_gyro_y,img_gyro_z), axis=1)\n",
    "    img_total = np.concatenate((img_total_x,img_total_y,img_total_z), axis=1)\n",
    "    img = np.concatenate((img_acc, img_gyro, img_total), axis=0)\n",
    "    img = ((img + 1) / (2) ) * (255 - 0) + 0\n",
    "    \n",
    "    image = Image.fromarray(img)\n",
    "    image = image.convert('RGB')\n",
    "    image = image.resize((224,224))\n",
    "    image.save('./images/'+str(i)+'.png')\n",
    "    filenames.append('./images/'+str(i)+'.png')\n",
    "print(len(filenames))"
   ]
  },
  {
   "cell_type": "code",
   "execution_count": 9,
   "metadata": {},
   "outputs": [],
   "source": [
    "dict_activity = {1:'WALKING',\n",
    "2:'WALKING_UPSTAIRS',\n",
    "3:'WALKING_DOWNSTAIRS',\n",
    "4:'SITTING',\n",
    "5:'STANDING',\n",
    "6:'LAYING'}\n",
    "\n",
    "def get_label(val):\n",
    "    return dict_activity.get(val)"
   ]
  },
  {
   "cell_type": "code",
   "execution_count": 48,
   "metadata": {},
   "outputs": [
    {
     "name": "stdout",
     "output_type": "stream",
     "text": [
      "<class 'pandas.core.frame.DataFrame'>\n",
      "RangeIndex: 7352 entries, 0 to 7351\n",
      "Data columns (total 4 columns):\n",
      " #   Column      Non-Null Count  Dtype \n",
      "---  ------      --------------  ----- \n",
      " 0   target      7352 non-null   int64 \n",
      " 1   image       7352 non-null   object\n",
      " 2   subject_id  7352 non-null   int64 \n",
      " 3   target_str  7352 non-null   object\n",
      "dtypes: int64(2), object(2)\n",
      "memory usage: 229.9+ KB\n"
     ]
    }
   ],
   "source": [
    "df_subject = pd.read_csv('./HARDataset/train/subject_train.txt', header=None, delim_whitespace=True)\n",
    "df_subject.columns = ['subject_id']\n",
    "df_dr = pd.read_csv('./HARDataset/train/y_train.txt', header=None, delim_whitespace=True)\n",
    "df_dr.columns = ['target']\n",
    "df_dr['image'] = filenames\n",
    "df_dr['subject_id'] = df_subject['subject_id']\n",
    "df_dr['target_str'] =  df_dr.target.apply(get_label)\n",
    "df_dr.info()"
   ]
  },
  {
   "cell_type": "code",
   "execution_count": 49,
   "metadata": {},
   "outputs": [
    {
     "data": {
      "text/html": [
       "<div>\n",
       "<style scoped>\n",
       "    .dataframe tbody tr th:only-of-type {\n",
       "        vertical-align: middle;\n",
       "    }\n",
       "\n",
       "    .dataframe tbody tr th {\n",
       "        vertical-align: top;\n",
       "    }\n",
       "\n",
       "    .dataframe thead th {\n",
       "        text-align: right;\n",
       "    }\n",
       "</style>\n",
       "<table border=\"1\" class=\"dataframe\">\n",
       "  <thead>\n",
       "    <tr style=\"text-align: right;\">\n",
       "      <th></th>\n",
       "      <th>target</th>\n",
       "      <th>image</th>\n",
       "      <th>subject_id</th>\n",
       "      <th>target_str</th>\n",
       "    </tr>\n",
       "  </thead>\n",
       "  <tbody>\n",
       "    <tr>\n",
       "      <th>0</th>\n",
       "      <td>5</td>\n",
       "      <td>./images/0.png</td>\n",
       "      <td>1</td>\n",
       "      <td>STANDING</td>\n",
       "    </tr>\n",
       "    <tr>\n",
       "      <th>1</th>\n",
       "      <td>5</td>\n",
       "      <td>./images/1.png</td>\n",
       "      <td>1</td>\n",
       "      <td>STANDING</td>\n",
       "    </tr>\n",
       "    <tr>\n",
       "      <th>2</th>\n",
       "      <td>5</td>\n",
       "      <td>./images/2.png</td>\n",
       "      <td>1</td>\n",
       "      <td>STANDING</td>\n",
       "    </tr>\n",
       "    <tr>\n",
       "      <th>3</th>\n",
       "      <td>5</td>\n",
       "      <td>./images/3.png</td>\n",
       "      <td>1</td>\n",
       "      <td>STANDING</td>\n",
       "    </tr>\n",
       "    <tr>\n",
       "      <th>4</th>\n",
       "      <td>5</td>\n",
       "      <td>./images/4.png</td>\n",
       "      <td>1</td>\n",
       "      <td>STANDING</td>\n",
       "    </tr>\n",
       "  </tbody>\n",
       "</table>\n",
       "</div>"
      ],
      "text/plain": [
       "   target           image  subject_id target_str\n",
       "0       5  ./images/0.png           1   STANDING\n",
       "1       5  ./images/1.png           1   STANDING\n",
       "2       5  ./images/2.png           1   STANDING\n",
       "3       5  ./images/3.png           1   STANDING\n",
       "4       5  ./images/4.png           1   STANDING"
      ]
     },
     "execution_count": 49,
     "metadata": {},
     "output_type": "execute_result"
    }
   ],
   "source": [
    "df_dr.head()"
   ]
  },
  {
   "cell_type": "code",
   "execution_count": 51,
   "metadata": {},
   "outputs": [],
   "source": [
    "df_dr[['image', 'subject_id', 'target_str']].to_csv('./df_har.csv',index=False)"
   ]
  },
  {
   "cell_type": "markdown",
   "metadata": {},
   "source": [
    "## Baseline Model\n",
    "This model only uses aggregated, centralized features on the time series"
   ]
  },
  {
   "cell_type": "code",
   "execution_count": 36,
   "metadata": {},
   "outputs": [
    {
     "name": "stdout",
     "output_type": "stream",
     "text": [
      "<class 'pandas.core.frame.DataFrame'>\n",
      "RangeIndex: 7352 entries, 0 to 7351\n",
      "Data columns (total 2 columns):\n",
      " #   Column         Non-Null Count  Dtype \n",
      "---  ------         --------------  ----- \n",
      " 0   target         7352 non-null   int64 \n",
      " 1   target_string  7352 non-null   object\n",
      "dtypes: int64(1), object(1)\n",
      "memory usage: 115.0+ KB\n"
     ]
    }
   ],
   "source": [
    "y = pd.read_csv('./HARDataset/train/y_train.txt', header=None, delim_whitespace=True)\n",
    "y.columns = ['target']\n",
    "y['target_string'] = y.target.apply(get_label)\n",
    "y.info()"
   ]
  },
  {
   "cell_type": "code",
   "execution_count": 56,
   "metadata": {},
   "outputs": [],
   "source": [
    "df_subject = pd.read_csv('./HARDataset/train/subject_train.txt', header=None, delim_whitespace=True)\n",
    "df_subject.columns = ['subject_id']"
   ]
  },
  {
   "cell_type": "code",
   "execution_count": 57,
   "metadata": {},
   "outputs": [
    {
     "data": {
      "text/html": [
       "<div>\n",
       "<style scoped>\n",
       "    .dataframe tbody tr th:only-of-type {\n",
       "        vertical-align: middle;\n",
       "    }\n",
       "\n",
       "    .dataframe tbody tr th {\n",
       "        vertical-align: top;\n",
       "    }\n",
       "\n",
       "    .dataframe thead th {\n",
       "        text-align: right;\n",
       "    }\n",
       "</style>\n",
       "<table border=\"1\" class=\"dataframe\">\n",
       "  <thead>\n",
       "    <tr style=\"text-align: right;\">\n",
       "      <th></th>\n",
       "      <th>id</th>\n",
       "      <th>feature</th>\n",
       "    </tr>\n",
       "  </thead>\n",
       "  <tbody>\n",
       "    <tr>\n",
       "      <th>0</th>\n",
       "      <td>1</td>\n",
       "      <td>tBodyAcc-mean()-X</td>\n",
       "    </tr>\n",
       "    <tr>\n",
       "      <th>1</th>\n",
       "      <td>2</td>\n",
       "      <td>tBodyAcc-mean()-Y</td>\n",
       "    </tr>\n",
       "    <tr>\n",
       "      <th>2</th>\n",
       "      <td>3</td>\n",
       "      <td>tBodyAcc-mean()-Z</td>\n",
       "    </tr>\n",
       "    <tr>\n",
       "      <th>3</th>\n",
       "      <td>4</td>\n",
       "      <td>tBodyAcc-std()-X</td>\n",
       "    </tr>\n",
       "    <tr>\n",
       "      <th>4</th>\n",
       "      <td>5</td>\n",
       "      <td>tBodyAcc-std()-Y</td>\n",
       "    </tr>\n",
       "  </tbody>\n",
       "</table>\n",
       "</div>"
      ],
      "text/plain": [
       "   id            feature\n",
       "0   1  tBodyAcc-mean()-X\n",
       "1   2  tBodyAcc-mean()-Y\n",
       "2   3  tBodyAcc-mean()-Z\n",
       "3   4   tBodyAcc-std()-X\n",
       "4   5   tBodyAcc-std()-Y"
      ]
     },
     "execution_count": 57,
     "metadata": {},
     "output_type": "execute_result"
    }
   ],
   "source": [
    "column_names = pd.read_csv('./HARDataset/features.txt', header=None, delim_whitespace=True)\n",
    "column_names.columns = ['id','feature']\n",
    "column_names.head()"
   ]
  },
  {
   "cell_type": "code",
   "execution_count": 58,
   "metadata": {},
   "outputs": [
    {
     "name": "stdout",
     "output_type": "stream",
     "text": [
      "<class 'pandas.core.frame.DataFrame'>\n",
      "RangeIndex: 7352 entries, 0 to 7351\n",
      "Columns: 563 entries, feat_1 to subject_id\n",
      "dtypes: float64(561), int64(1), object(1)\n",
      "memory usage: 31.6+ MB\n"
     ]
    }
   ],
   "source": [
    "X = pd.read_csv('./HARDataset/train/X_train.txt', header=None, delim_whitespace=True)\n",
    "# X.columns = column_names.feature.tolist()\n",
    "X.columns = ['feat_'+str(i+1) for i in range(X.shape[1])]\n",
    "X['target_str'] = y['target_string']\n",
    "X['subject_id'] = df_subject['subject_id']\n",
    "X.info()"
   ]
  },
  {
   "cell_type": "code",
   "execution_count": 59,
   "metadata": {},
   "outputs": [],
   "source": [
    "X.to_csv('./uci_har_tabular.csv', index=False)"
   ]
  },
  {
   "cell_type": "code",
   "execution_count": 65,
   "metadata": {},
   "outputs": [],
   "source": [
    "X_test = pd.read_csv('./HARDataset/test/X_test.txt', header=None, delim_whitespace=True)\n",
    "y_test = pd.read_csv('./HARDataset/test/y_test.txt', header=None, delim_whitespace=True)\n",
    "y_test.columns = ['target']\n",
    "y_test['target_string'] = y_test.target.apply(get_label)\n",
    "df_subject_test = pd.read_csv('./HARDataset/test/subject_test.txt', header=None, delim_whitespace=True)\n",
    "df_subject_test.columns = ['subject_id']"
   ]
  },
  {
   "cell_type": "code",
   "execution_count": 66,
   "metadata": {},
   "outputs": [
    {
     "name": "stdout",
     "output_type": "stream",
     "text": [
      "<class 'pandas.core.frame.DataFrame'>\n",
      "RangeIndex: 2947 entries, 0 to 2946\n",
      "Columns: 563 entries, feat_1 to subject_id\n",
      "dtypes: float64(561), int64(1), object(1)\n",
      "memory usage: 12.7+ MB\n"
     ]
    }
   ],
   "source": [
    "# X.columns = column_names.feature.tolist()\n",
    "X_test.columns = ['feat_'+str(i+1) for i in range(X_test.shape[1])]\n",
    "X_test['target_str'] = y_test['target_string']\n",
    "X_test['subject_id'] = df_subject_test['subject_id']\n",
    "X_test.info()"
   ]
  },
  {
   "cell_type": "code",
   "execution_count": 67,
   "metadata": {},
   "outputs": [],
   "source": [
    "X_test.to_csv('./uci_har_tabular_test.csv', index=False)"
   ]
  },
  {
   "cell_type": "code",
   "execution_count": 90,
   "metadata": {},
   "outputs": [
    {
     "name": "stdout",
     "output_type": "stream",
     "text": [
      "<class 'pandas.core.frame.DataFrame'>\n",
      "RangeIndex: 2947 entries, 0 to 2946\n",
      "Data columns (total 8 columns):\n",
      " #   Column              Non-Null Count  Dtype  \n",
      "---  ------              --------------  -----  \n",
      " 0   row_id              2947 non-null   int64  \n",
      " 1   target_str          2947 non-null   object \n",
      " 2   LAYING              2947 non-null   float64\n",
      " 3   SITTING             2947 non-null   float64\n",
      " 4   STANDING            2947 non-null   float64\n",
      " 5   WALKING             2947 non-null   float64\n",
      " 6   WALKING_DOWNSTAIRS  2947 non-null   float64\n",
      " 7   WALKING_UPSTAIRS    2947 non-null   float64\n",
      "dtypes: float64(6), int64(1), object(1)\n",
      "memory usage: 184.3+ KB\n"
     ]
    }
   ],
   "source": [
    "preds = pd.read_csv('./preds_blender_tabular.csv')\n",
    "df_performance = preds.copy(deep=True)\n",
    "df_performance.rename(columns={'Prediction LAYING':'LAYING',\n",
    "                               'Prediction SITTING':'SITTING',\n",
    "                               'Prediction STANDING':'STANDING',\n",
    "                               'Prediction WALKING':'WALKING',\n",
    "                               'Prediction WALKING_DOWNSTAIRS':'WALKING_DOWNSTAIRS', \n",
    "                               'Prediction WALKING_UPSTAIRS':'WALKING_UPSTAIRS'}, inplace=True)\n",
    "df_performance.info()"
   ]
  },
  {
   "cell_type": "code",
   "execution_count": 91,
   "metadata": {},
   "outputs": [
    {
     "data": {
      "text/plain": [
       "0.9975473922004675"
      ]
     },
     "execution_count": 91,
     "metadata": {},
     "output_type": "execute_result"
    }
   ],
   "source": [
    "roc_auc_score(df_performance.target_str, df_performance[['LAYING', 'SITTING', 'STANDING', 'WALKING',\n",
    "       'WALKING_DOWNSTAIRS', 'WALKING_UPSTAIRS']], multi_class=\"ovr\")"
   ]
  },
  {
   "cell_type": "code",
   "execution_count": 92,
   "metadata": {},
   "outputs": [
    {
     "name": "stdout",
     "output_type": "stream",
     "text": [
      "                    precision    recall  f1-score   support\n",
      "\n",
      "            LAYING       1.00      1.00      1.00       537\n",
      "           SITTING       0.96      0.89      0.92       491\n",
      "          STANDING       0.90      0.96      0.93       532\n",
      "           WALKING       0.93      0.98      0.96       496\n",
      "WALKING_DOWNSTAIRS       0.97      0.93      0.95       420\n",
      "  WALKING_UPSTAIRS       0.93      0.92      0.92       471\n",
      "\n",
      "          accuracy                           0.95      2947\n",
      "         macro avg       0.95      0.95      0.95      2947\n",
      "      weighted avg       0.95      0.95      0.95      2947\n",
      "\n"
     ]
    }
   ],
   "source": [
    "labs = ['LAYING', 'SITTING', 'STANDING', 'WALKING',\n",
    "       'WALKING_DOWNSTAIRS', 'WALKING_UPSTAIRS']\n",
    "preds = [labs[i] for i in df_performance[['LAYING', 'SITTING', 'STANDING', 'WALKING',\n",
    "       'WALKING_DOWNSTAIRS', 'WALKING_UPSTAIRS']].values.argmax(axis=1)]\n",
    "print(classification_report(df_performance.target_str, preds))"
   ]
  },
  {
   "cell_type": "markdown",
   "metadata": {},
   "source": [
    "## Only TS Images - Visual AI model\n",
    "use only the images as features and build visual ai models"
   ]
  },
  {
   "cell_type": "code",
   "execution_count": 2,
   "metadata": {},
   "outputs": [
    {
     "data": {
      "text/plain": [
       "['body_acc_x_test.txt',\n",
       " 'body_acc_y_test.txt',\n",
       " 'body_acc_z_test.txt',\n",
       " 'body_gyro_x_test.txt',\n",
       " 'body_gyro_y_test.txt',\n",
       " 'body_gyro_z_test.txt',\n",
       " 'total_acc_x_test.txt',\n",
       " 'total_acc_y_test.txt',\n",
       " 'total_acc_z_test.txt']"
      ]
     },
     "execution_count": 2,
     "metadata": {},
     "output_type": "execute_result"
    }
   ],
   "source": [
    "files_test = os.listdir('./HARDataset/test/Inertial Signals/')\n",
    "files_test.sort()\n",
    "files_test"
   ]
  },
  {
   "cell_type": "code",
   "execution_count": 3,
   "metadata": {},
   "outputs": [
    {
     "data": {
      "text/plain": [
       "((2947, 128), (2947, 128), (2947, 128))"
      ]
     },
     "execution_count": 3,
     "metadata": {},
     "output_type": "execute_result"
    }
   ],
   "source": [
    "acc_x = pd.read_csv('./HARDataset/test/Inertial Signals/body_acc_x_test.txt', header=None, delim_whitespace=True).values\n",
    "acc_y = pd.read_csv('./HARDataset/test/Inertial Signals/body_acc_y_test.txt', header=None, delim_whitespace=True).values\n",
    "acc_z = pd.read_csv('./HARDataset/test/Inertial Signals/body_acc_z_test.txt', header=None, delim_whitespace=True).values\n",
    "\n",
    "acc_x.shape,acc_y.shape,acc_z.shape"
   ]
  },
  {
   "cell_type": "code",
   "execution_count": 4,
   "metadata": {},
   "outputs": [
    {
     "data": {
      "text/plain": [
       "((2947, 128), (2947, 128), (2947, 128))"
      ]
     },
     "execution_count": 4,
     "metadata": {},
     "output_type": "execute_result"
    }
   ],
   "source": [
    "gyro_x = pd.read_csv('./HARDataset/test/Inertial Signals/body_gyro_x_test.txt', header=None, delim_whitespace=True).values\n",
    "gyro_y = pd.read_csv('./HARDataset/test/Inertial Signals/body_gyro_y_test.txt', header=None, delim_whitespace=True).values\n",
    "gyro_z = pd.read_csv('./HARDataset/test/Inertial Signals/body_gyro_z_test.txt', header=None, delim_whitespace=True).values\n",
    "\n",
    "gyro_x.shape,gyro_y.shape,gyro_z.shape"
   ]
  },
  {
   "cell_type": "code",
   "execution_count": 5,
   "metadata": {},
   "outputs": [
    {
     "data": {
      "text/plain": [
       "((2947, 128), (2947, 128), (2947, 128))"
      ]
     },
     "execution_count": 5,
     "metadata": {},
     "output_type": "execute_result"
    }
   ],
   "source": [
    "total_x = pd.read_csv('./HARDataset/test/Inertial Signals/total_acc_x_test.txt', header=None, delim_whitespace=True).values\n",
    "total_y = pd.read_csv('./HARDataset/test/Inertial Signals/total_acc_y_test.txt', header=None, delim_whitespace=True).values\n",
    "total_z = pd.read_csv('./HARDataset/test/Inertial Signals/total_acc_z_test.txt', header=None, delim_whitespace=True).values\n",
    "\n",
    "total_x.shape,total_y.shape,total_z.shape"
   ]
  },
  {
   "cell_type": "code",
   "execution_count": 6,
   "metadata": {},
   "outputs": [],
   "source": [
    "!mkdir 'images_test'"
   ]
  },
  {
   "cell_type": "code",
   "execution_count": 8,
   "metadata": {},
   "outputs": [
    {
     "data": {
      "text/plain": [
       "(2947, 1)"
      ]
     },
     "execution_count": 8,
     "metadata": {},
     "output_type": "execute_result"
    }
   ],
   "source": [
    "y = pd.read_csv('./HARDataset/test/y_test.txt', header=None, delim_whitespace=True).values\n",
    "y.shape"
   ]
  },
  {
   "cell_type": "code",
   "execution_count": 10,
   "metadata": {},
   "outputs": [
    {
     "name": "stderr",
     "output_type": "stream",
     "text": [
      "100%|██████████| 2947/2947 [01:49<00:00, 26.94it/s]"
     ]
    },
    {
     "name": "stdout",
     "output_type": "stream",
     "text": [
      "2947\n"
     ]
    },
    {
     "name": "stderr",
     "output_type": "stream",
     "text": [
      "\n"
     ]
    }
   ],
   "source": [
    "gaf = GramianAngularField()\n",
    "filenames = []\n",
    "for i in tqdm(range(len(y))):\n",
    "    img_acc_x = gaf.fit_transform(acc_x[i].reshape((-1,128)))[0]\n",
    "    img_acc_y = gaf.fit_transform(acc_y[i].reshape((-1,128)))[0]\n",
    "    img_acc_z = gaf.fit_transform(acc_z[i].reshape((-1,128)))[0]\n",
    "    \n",
    "    img_gyro_x = gaf.fit_transform(gyro_x[i].reshape((-1,128)))[0]\n",
    "    img_gyro_y = gaf.fit_transform(gyro_y[i].reshape((-1,128)))[0]\n",
    "    img_gyro_z = gaf.fit_transform(gyro_z[i].reshape((-1,128)))[0]\n",
    "    \n",
    "    img_total_x = gaf.fit_transform(total_x[i].reshape((-1,128)))[0]\n",
    "    img_total_y = gaf.fit_transform(total_y[i].reshape((-1,128)))[0]\n",
    "    img_total_z = gaf.fit_transform(total_z[i].reshape((-1,128)))[0]\n",
    "    \n",
    "    img_acc = np.concatenate((img_acc_x,img_acc_y,img_acc_z), axis=1)\n",
    "    img_gyro = np.concatenate((img_gyro_x,img_gyro_y,img_gyro_z), axis=1)\n",
    "    img_total = np.concatenate((img_total_x,img_total_y,img_total_z), axis=1)\n",
    "    img = np.concatenate((img_acc, img_gyro, img_total), axis=0)\n",
    "    img = ((img + 1) / (2) ) * (255 - 0) + 0\n",
    "    \n",
    "    image = Image.fromarray(img)\n",
    "    image = image.convert('RGB')\n",
    "    image = image.resize((224,224))\n",
    "    image.save('./images_test/'+str(i)+'.png')\n",
    "    filenames.append('./images_test/'+str(i)+'.png')\n",
    "print(len(filenames))"
   ]
  },
  {
   "cell_type": "code",
   "execution_count": 80,
   "metadata": {},
   "outputs": [
    {
     "name": "stdout",
     "output_type": "stream",
     "text": [
      "<class 'pandas.core.frame.DataFrame'>\n",
      "RangeIndex: 2947 entries, 0 to 2946\n",
      "Data columns (total 4 columns):\n",
      " #   Column      Non-Null Count  Dtype \n",
      "---  ------      --------------  ----- \n",
      " 0   target      2947 non-null   int64 \n",
      " 1   image       2947 non-null   object\n",
      " 2   subject_id  2947 non-null   int64 \n",
      " 3   target_str  2947 non-null   object\n",
      "dtypes: int64(2), object(2)\n",
      "memory usage: 92.2+ KB\n"
     ]
    }
   ],
   "source": [
    "df_subject = pd.read_csv('./HARDataset/test/subject_test.txt', header=None, delim_whitespace=True)\n",
    "df_subject.columns = ['subject_id']\n",
    "df_dr = pd.read_csv('./HARDataset/test/y_test.txt', header=None, delim_whitespace=True)\n",
    "df_dr.columns = ['target']\n",
    "df_dr['image'] = filenames\n",
    "df_dr['subject_id'] = df_subject['subject_id']\n",
    "df_dr['target_str'] =  df_dr.target.apply(get_label)\n",
    "df_dr.info()"
   ]
  },
  {
   "cell_type": "code",
   "execution_count": 81,
   "metadata": {},
   "outputs": [
    {
     "data": {
      "text/html": [
       "<div>\n",
       "<style scoped>\n",
       "    .dataframe tbody tr th:only-of-type {\n",
       "        vertical-align: middle;\n",
       "    }\n",
       "\n",
       "    .dataframe tbody tr th {\n",
       "        vertical-align: top;\n",
       "    }\n",
       "\n",
       "    .dataframe thead th {\n",
       "        text-align: right;\n",
       "    }\n",
       "</style>\n",
       "<table border=\"1\" class=\"dataframe\">\n",
       "  <thead>\n",
       "    <tr style=\"text-align: right;\">\n",
       "      <th></th>\n",
       "      <th>target</th>\n",
       "      <th>image</th>\n",
       "      <th>subject_id</th>\n",
       "      <th>target_str</th>\n",
       "    </tr>\n",
       "  </thead>\n",
       "  <tbody>\n",
       "    <tr>\n",
       "      <th>0</th>\n",
       "      <td>5</td>\n",
       "      <td>./images_test/0.png</td>\n",
       "      <td>2</td>\n",
       "      <td>STANDING</td>\n",
       "    </tr>\n",
       "    <tr>\n",
       "      <th>1</th>\n",
       "      <td>5</td>\n",
       "      <td>./images_test/1.png</td>\n",
       "      <td>2</td>\n",
       "      <td>STANDING</td>\n",
       "    </tr>\n",
       "    <tr>\n",
       "      <th>2</th>\n",
       "      <td>5</td>\n",
       "      <td>./images_test/2.png</td>\n",
       "      <td>2</td>\n",
       "      <td>STANDING</td>\n",
       "    </tr>\n",
       "    <tr>\n",
       "      <th>3</th>\n",
       "      <td>5</td>\n",
       "      <td>./images_test/3.png</td>\n",
       "      <td>2</td>\n",
       "      <td>STANDING</td>\n",
       "    </tr>\n",
       "    <tr>\n",
       "      <th>4</th>\n",
       "      <td>5</td>\n",
       "      <td>./images_test/4.png</td>\n",
       "      <td>2</td>\n",
       "      <td>STANDING</td>\n",
       "    </tr>\n",
       "  </tbody>\n",
       "</table>\n",
       "</div>"
      ],
      "text/plain": [
       "   target                image  subject_id target_str\n",
       "0       5  ./images_test/0.png           2   STANDING\n",
       "1       5  ./images_test/1.png           2   STANDING\n",
       "2       5  ./images_test/2.png           2   STANDING\n",
       "3       5  ./images_test/3.png           2   STANDING\n",
       "4       5  ./images_test/4.png           2   STANDING"
      ]
     },
     "execution_count": 81,
     "metadata": {},
     "output_type": "execute_result"
    }
   ],
   "source": [
    "df_dr.head()"
   ]
  },
  {
   "cell_type": "code",
   "execution_count": 82,
   "metadata": {},
   "outputs": [],
   "source": [
    "df_dr[['image', 'subject_id', 'target_str']].to_csv('./df_har_test.csv',index=False)"
   ]
  },
  {
   "cell_type": "code",
   "execution_count": 70,
   "metadata": {},
   "outputs": [
    {
     "name": "stdout",
     "output_type": "stream",
     "text": [
      "<class 'pandas.core.frame.DataFrame'>\n",
      "RangeIndex: 2947 entries, 0 to 2946\n",
      "Data columns (total 8 columns):\n",
      " #   Column                         Non-Null Count  Dtype  \n",
      "---  ------                         --------------  -----  \n",
      " 0   row_id                         2947 non-null   int64  \n",
      " 1   target_str                     2947 non-null   object \n",
      " 2   Prediction LAYING              2947 non-null   float64\n",
      " 3   Prediction SITTING             2947 non-null   float64\n",
      " 4   Prediction STANDING            2947 non-null   float64\n",
      " 5   Prediction WALKING             2947 non-null   float64\n",
      " 6   Prediction WALKING_DOWNSTAIRS  2947 non-null   float64\n",
      " 7   Prediction WALKING_UPSTAIRS    2947 non-null   float64\n",
      "dtypes: float64(6), int64(1), object(1)\n",
      "memory usage: 184.3+ KB\n"
     ]
    }
   ],
   "source": [
    "# preds = pd.read_csv('./preds_ensemble_80.csv')\n",
    "preds = pd.read_csv('./preds_blender_100.csv')\n",
    "preds.info()"
   ]
  },
  {
   "cell_type": "code",
   "execution_count": 71,
   "metadata": {},
   "outputs": [
    {
     "name": "stdout",
     "output_type": "stream",
     "text": [
      "<class 'pandas.core.frame.DataFrame'>\n",
      "RangeIndex: 2947 entries, 0 to 2946\n",
      "Data columns (total 8 columns):\n",
      " #   Column              Non-Null Count  Dtype  \n",
      "---  ------              --------------  -----  \n",
      " 0   row_id              2947 non-null   int64  \n",
      " 1   target_str          2947 non-null   object \n",
      " 2   LAYING              2947 non-null   float64\n",
      " 3   SITTING             2947 non-null   float64\n",
      " 4   STANDING            2947 non-null   float64\n",
      " 5   WALKING             2947 non-null   float64\n",
      " 6   WALKING_DOWNSTAIRS  2947 non-null   float64\n",
      " 7   WALKING_UPSTAIRS    2947 non-null   float64\n",
      "dtypes: float64(6), int64(1), object(1)\n",
      "memory usage: 184.3+ KB\n"
     ]
    }
   ],
   "source": [
    "df_performance = preds.copy(deep=True) #  0.81\n",
    "df_performance.rename(columns={'Prediction LAYING':'LAYING',\n",
    "                               'Prediction SITTING':'SITTING',\n",
    "                               'Prediction STANDING':'STANDING',\n",
    "                               'Prediction WALKING':'WALKING',\n",
    "                               'Prediction WALKING_DOWNSTAIRS':'WALKING_DOWNSTAIRS', \n",
    "                               'Prediction WALKING_UPSTAIRS':'WALKING_UPSTAIRS'}, inplace=True)\n",
    "df_performance.info()"
   ]
  },
  {
   "cell_type": "code",
   "execution_count": 72,
   "metadata": {},
   "outputs": [
    {
     "data": {
      "text/plain": [
       "Index(['row_id', 'target_str', 'LAYING', 'SITTING', 'STANDING', 'WALKING',\n",
       "       'WALKING_DOWNSTAIRS', 'WALKING_UPSTAIRS'],\n",
       "      dtype='object')"
      ]
     },
     "execution_count": 72,
     "metadata": {},
     "output_type": "execute_result"
    }
   ],
   "source": [
    "df_performance.columns"
   ]
  },
  {
   "cell_type": "code",
   "execution_count": 73,
   "metadata": {},
   "outputs": [
    {
     "data": {
      "text/plain": [
       "0.9756452836622634"
      ]
     },
     "execution_count": 73,
     "metadata": {},
     "output_type": "execute_result"
    }
   ],
   "source": [
    "roc_auc_score(df_performance.target_str, df_performance[['LAYING', 'SITTING', 'STANDING', 'WALKING',\n",
    "       'WALKING_DOWNSTAIRS', 'WALKING_UPSTAIRS']], multi_class=\"ovr\")"
   ]
  },
  {
   "cell_type": "code",
   "execution_count": 74,
   "metadata": {},
   "outputs": [
    {
     "name": "stdout",
     "output_type": "stream",
     "text": [
      "                    precision    recall  f1-score   support\n",
      "\n",
      "            LAYING       0.83      0.80      0.82       537\n",
      "           SITTING       0.69      0.60      0.64       491\n",
      "          STANDING       0.71      0.82      0.76       532\n",
      "           WALKING       0.93      0.93      0.93       496\n",
      "WALKING_DOWNSTAIRS       0.92      0.95      0.94       420\n",
      "  WALKING_UPSTAIRS       0.95      0.92      0.94       471\n",
      "\n",
      "          accuracy                           0.83      2947\n",
      "         macro avg       0.84      0.84      0.84      2947\n",
      "      weighted avg       0.83      0.83      0.83      2947\n",
      "\n"
     ]
    }
   ],
   "source": [
    "labs = ['LAYING', 'SITTING', 'STANDING', 'WALKING',\n",
    "       'WALKING_DOWNSTAIRS', 'WALKING_UPSTAIRS']\n",
    "preds = [labs[i] for i in df_performance[['LAYING', 'SITTING', 'STANDING', 'WALKING',\n",
    "       'WALKING_DOWNSTAIRS', 'WALKING_UPSTAIRS']].values.argmax(axis=1)]\n",
    "print(classification_report(df_performance.target_str, preds))"
   ]
  },
  {
   "cell_type": "markdown",
   "metadata": {},
   "source": [
    "## Time Series central features and Images\n",
    "Use both time series aggregated features and images in DataRobot"
   ]
  },
  {
   "cell_type": "code",
   "execution_count": 85,
   "metadata": {},
   "outputs": [
    {
     "name": "stdout",
     "output_type": "stream",
     "text": [
      "<class 'pandas.core.frame.DataFrame'>\n",
      "RangeIndex: 7352 entries, 0 to 7351\n",
      "Columns: 563 entries, feat_1 to subject_id\n",
      "dtypes: float64(561), int64(1), object(1)\n",
      "memory usage: 31.6+ MB\n"
     ]
    }
   ],
   "source": [
    "X.info()"
   ]
  },
  {
   "cell_type": "code",
   "execution_count": 86,
   "metadata": {},
   "outputs": [
    {
     "name": "stderr",
     "output_type": "stream",
     "text": [
      "100%|██████████| 7352/7352 [00:00<00:00, 1088552.77it/s]"
     ]
    },
    {
     "name": "stdout",
     "output_type": "stream",
     "text": [
      "7352\n"
     ]
    },
    {
     "name": "stderr",
     "output_type": "stream",
     "text": [
      "\n"
     ]
    }
   ],
   "source": [
    "filenames = []\n",
    "for i in tqdm(range(len(X))):\n",
    "    filenames.append('./images/'+str(i)+'.png')\n",
    "print(len(filenames))"
   ]
  },
  {
   "cell_type": "code",
   "execution_count": 87,
   "metadata": {},
   "outputs": [
    {
     "data": {
      "text/plain": [
       "['./images/0.png',\n",
       " './images/1.png',\n",
       " './images/2.png',\n",
       " './images/3.png',\n",
       " './images/4.png',\n",
       " './images/5.png',\n",
       " './images/6.png',\n",
       " './images/7.png',\n",
       " './images/8.png',\n",
       " './images/9.png']"
      ]
     },
     "execution_count": 87,
     "metadata": {},
     "output_type": "execute_result"
    }
   ],
   "source": [
    "filenames[0:10]"
   ]
  },
  {
   "cell_type": "code",
   "execution_count": 88,
   "metadata": {},
   "outputs": [],
   "source": [
    "X['image'] = filenames"
   ]
  },
  {
   "cell_type": "code",
   "execution_count": 89,
   "metadata": {},
   "outputs": [],
   "source": [
    "X.to_csv('./uci_har_tabular_images.csv', index=False)"
   ]
  },
  {
   "cell_type": "code",
   "execution_count": 93,
   "metadata": {},
   "outputs": [
    {
     "name": "stdout",
     "output_type": "stream",
     "text": [
      "<class 'pandas.core.frame.DataFrame'>\n",
      "RangeIndex: 2947 entries, 0 to 2946\n",
      "Columns: 563 entries, feat_1 to subject_id\n",
      "dtypes: float64(561), int64(1), object(1)\n",
      "memory usage: 12.7+ MB\n"
     ]
    }
   ],
   "source": [
    "X_test.info()"
   ]
  },
  {
   "cell_type": "code",
   "execution_count": 94,
   "metadata": {},
   "outputs": [
    {
     "name": "stderr",
     "output_type": "stream",
     "text": [
      "100%|██████████| 2947/2947 [00:00<00:00, 687426.39it/s]"
     ]
    },
    {
     "name": "stdout",
     "output_type": "stream",
     "text": [
      "2947\n"
     ]
    },
    {
     "name": "stderr",
     "output_type": "stream",
     "text": [
      "\n"
     ]
    }
   ],
   "source": [
    "filenames = []\n",
    "for i in tqdm(range(len(X_test))):\n",
    "    filenames.append('./images_test/'+str(i)+'.png')\n",
    "print(len(filenames))"
   ]
  },
  {
   "cell_type": "code",
   "execution_count": 95,
   "metadata": {},
   "outputs": [],
   "source": [
    "X_test['image'] = filenames"
   ]
  },
  {
   "cell_type": "code",
   "execution_count": 96,
   "metadata": {},
   "outputs": [],
   "source": [
    "X_test.to_csv('./uci_har_tabular_test_images.csv', index=False)"
   ]
  },
  {
   "cell_type": "code",
   "execution_count": 4,
   "metadata": {},
   "outputs": [
    {
     "name": "stdout",
     "output_type": "stream",
     "text": [
      "<class 'pandas.core.frame.DataFrame'>\n",
      "RangeIndex: 2947 entries, 0 to 2946\n",
      "Data columns (total 8 columns):\n",
      " #   Column              Non-Null Count  Dtype  \n",
      "---  ------              --------------  -----  \n",
      " 0   row_id              2947 non-null   int64  \n",
      " 1   target_str          2947 non-null   object \n",
      " 2   LAYING              2947 non-null   float64\n",
      " 3   SITTING             2947 non-null   float64\n",
      " 4   STANDING            2947 non-null   float64\n",
      " 5   WALKING             2947 non-null   float64\n",
      " 6   WALKING_DOWNSTAIRS  2947 non-null   float64\n",
      " 7   WALKING_UPSTAIRS    2947 non-null   float64\n",
      "dtypes: float64(6), int64(1), object(1)\n",
      "memory usage: 184.3+ KB\n"
     ]
    }
   ],
   "source": [
    "# preds = pd.read_csv('./preds_tab_plus_img.csv')\n",
    "preds = pd.read_csv('./preds_low_level_features.csv')\n",
    "df_performance = preds.copy(deep=True) \n",
    "df_performance.rename(columns={'Prediction LAYING':'LAYING',\n",
    "                               'Prediction SITTING':'SITTING',\n",
    "                               'Prediction STANDING':'STANDING',\n",
    "                               'Prediction WALKING':'WALKING',\n",
    "                               'Prediction WALKING_DOWNSTAIRS':'WALKING_DOWNSTAIRS', \n",
    "                               'Prediction WALKING_UPSTAIRS':'WALKING_UPSTAIRS'}, inplace=True)\n",
    "df_performance.info()"
   ]
  },
  {
   "cell_type": "code",
   "execution_count": 5,
   "metadata": {},
   "outputs": [
    {
     "data": {
      "text/plain": [
       "0.9991187488093504"
      ]
     },
     "execution_count": 5,
     "metadata": {},
     "output_type": "execute_result"
    }
   ],
   "source": [
    "roc_auc_score(df_performance.target_str, df_performance[['LAYING', 'SITTING', 'STANDING', 'WALKING',\n",
    "       'WALKING_DOWNSTAIRS', 'WALKING_UPSTAIRS']], multi_class=\"ovr\")"
   ]
  },
  {
   "cell_type": "code",
   "execution_count": 6,
   "metadata": {},
   "outputs": [
    {
     "name": "stdout",
     "output_type": "stream",
     "text": [
      "                    precision    recall  f1-score   support\n",
      "\n",
      "            LAYING       1.00      1.00      1.00       537\n",
      "           SITTING       0.96      0.90      0.93       491\n",
      "          STANDING       0.91      0.97      0.94       532\n",
      "           WALKING       0.96      0.99      0.98       496\n",
      "WALKING_DOWNSTAIRS       0.99      0.97      0.98       420\n",
      "  WALKING_UPSTAIRS       0.98      0.96      0.97       471\n",
      "\n",
      "          accuracy                           0.97      2947\n",
      "         macro avg       0.97      0.97      0.97      2947\n",
      "      weighted avg       0.97      0.97      0.97      2947\n",
      "\n"
     ]
    }
   ],
   "source": [
    "labs = ['LAYING', 'SITTING', 'STANDING', 'WALKING',\n",
    "       'WALKING_DOWNSTAIRS', 'WALKING_UPSTAIRS']\n",
    "preds = [labs[i] for i in df_performance[['LAYING', 'SITTING', 'STANDING', 'WALKING',\n",
    "       'WALKING_DOWNSTAIRS', 'WALKING_UPSTAIRS']].values.argmax(axis=1)]\n",
    "print(classification_report(df_performance.target_str, preds))"
   ]
  },
  {
   "cell_type": "code",
   "execution_count": 7,
   "metadata": {},
   "outputs": [
    {
     "data": {
      "text/plain": [
       "'                 precision    recall  f1-score   support\\n\\n            LAYING       1.00      1.00      1.00       537\\n           SITTING       0.96      0.89      0.92       491\\n          STANDING       0.90      0.96      0.93       532\\n           WALKING       0.93      0.98      0.96       496\\nWALKING_DOWNSTAIRS       0.97      0.93      0.95       420\\n  WALKING_UPSTAIRS       0.93      0.92      0.92       471\\n\\n          accuracy                           0.95      2947\\n         macro avg       0.95      0.95      0.95      2947\\n      weighted avg       0.95      0.95      0.95      2947 '"
      ]
     },
     "execution_count": 7,
     "metadata": {},
     "output_type": "execute_result"
    }
   ],
   "source": [
    "'''                 precision    recall  f1-score   support\n",
    "\n",
    "            LAYING       1.00      1.00      1.00       537\n",
    "           SITTING       0.96      0.89      0.92       491\n",
    "          STANDING       0.90      0.96      0.93       532\n",
    "           WALKING       0.93      0.98      0.96       496\n",
    "WALKING_DOWNSTAIRS       0.97      0.93      0.95       420\n",
    "  WALKING_UPSTAIRS       0.93      0.92      0.92       471\n",
    "\n",
    "          accuracy                           0.95      2947\n",
    "         macro avg       0.95      0.95      0.95      2947\n",
    "      weighted avg       0.95      0.95      0.95      2947 '''"
   ]
  },
  {
   "cell_type": "code",
   "execution_count": 8,
   "metadata": {},
   "outputs": [
    {
     "data": {
      "text/plain": [
       "2.105263157894739"
      ]
     },
     "execution_count": 8,
     "metadata": {},
     "output_type": "execute_result"
    }
   ],
   "source": [
    "(0.97-0.95)*100/0.95"
   ]
  },
  {
   "cell_type": "code",
   "execution_count": null,
   "metadata": {},
   "outputs": [],
   "source": []
  }
 ],
 "metadata": {
  "kernelspec": {
   "display_name": "Python 3",
   "language": "python",
   "name": "python3"
  },
  "language_info": {
   "codemirror_mode": {
    "name": "ipython",
    "version": 3
   },
   "file_extension": ".py",
   "mimetype": "text/x-python",
   "name": "python",
   "nbconvert_exporter": "python",
   "pygments_lexer": "ipython3",
   "version": "3.6.10"
  }
 },
 "nbformat": 4,
 "nbformat_minor": 4
}
